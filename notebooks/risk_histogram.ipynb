{
 "cells": [
  {
   "cell_type": "code",
   "execution_count": null,
   "metadata": {},
   "outputs": [],
   "source": [
    "from collections import defaultdict\n",
    "from tqdm import tqdm\n",
    "\n",
    "import torch\n",
    "import numpy as np\n",
    "import matplotlib.pyplot as plt\n",
    "import seaborn as sns\n",
    "sns.set()"
   ]
  },
  {
   "cell_type": "code",
   "execution_count": null,
   "metadata": {
    "collapsed": false,
    "jupyter": {
     "outputs_hidden": false
    },
    "pycharm": {
     "name": "#%%\n"
    }
   },
   "outputs": [],
   "source": [
    "import sys\n",
    "sys.path.append(\"../../covid_p2p_simulation_pg2455/src\")\n",
    "sys.path.append(\"..\")"
   ]
  },
  {
   "cell_type": "code",
   "execution_count": null,
   "metadata": {},
   "outputs": [],
   "source": [
    "from ctt.data_loading.loader import ContactDataset\n",
    "from covid19sim.utils import probas_to_risk_mapping, proba_to_risk_fn"
   ]
  },
  {
   "cell_type": "code",
   "execution_count": null,
   "metadata": {
    "collapsed": false,
    "jupyter": {
     "outputs_hidden": false
    },
    "pycharm": {
     "name": "#%%\n"
    }
   },
   "outputs": [],
   "source": [
    "DATA_PATH = \"/Users/nrahaman/Python/ctt/data/sim_v2_people-1000_days-30_init-0.048_seed-5_20200603-171306.zip\"\n",
    "dataset = ContactDataset(path=DATA_PATH, preload=True)\n"
   ]
  },
  {
   "cell_type": "code",
   "execution_count": null,
   "metadata": {
    "collapsed": false,
    "jupyter": {
     "outputs_hidden": false
    },
    "pycharm": {
     "name": "#%%\n"
    }
   },
   "outputs": [],
   "source": [
    "samples = defaultdict(list)\n",
    "\n",
    "for idx in tqdm(range(len(dataset))):\n",
    "    sample = dataset[idx]\n",
    "    for key in sample:\n",
    "        samples[key].append(sample[key])"
   ]
  },
  {
   "cell_type": "code",
   "execution_count": 6,
   "metadata": {
    "collapsed": false,
    "jupyter": {
     "outputs_hidden": false
    },
    "pycharm": {
     "name": "#%%\n"
    }
   },
   "outputs": [],
   "source": [
    "for key in samples:\n",
    "    if key.startswith(\"encounter\"):\n",
    "        continue\n",
    "    samples[key] = torch.stack(samples[key]).numpy()"
   ]
  },
  {
   "cell_type": "code",
   "execution_count": 7,
   "metadata": {
    "collapsed": false,
    "jupyter": {
     "outputs_hidden": false
    },
    "pycharm": {
     "name": "#%%\n"
    }
   },
   "outputs": [],
   "source": [
    "def filter_thresh(x, thresh=0.):\n",
    "    x = np.asarray(x)\n",
    "    x = x[x > thresh]\n",
    "    return x"
   ]
  },
  {
   "cell_type": "code",
   "execution_count": 8,
   "metadata": {},
   "outputs": [],
   "source": [
    "all_messages = torch.cat([msg[:, 0] for msg in samples[\"encounter_message\"]]).numpy()"
   ]
  },
  {
   "cell_type": "code",
   "execution_count": 9,
   "metadata": {},
   "outputs": [
    {
     "data": {
      "image/png": "[encoded data removed]",
      "text/plain": [
       "<Figure size 432x288 with 1 Axes>"
      ]
     },
     "metadata": {},
     "output_type": "display_data"
    }
   ],
   "source": [
    "plt.figure()\n",
    "plt.hist(filter_thresh(all_messages), bins=50)\n",
    "plt.show()"
   ]
  },
  {
   "cell_type": "code",
   "execution_count": 10,
   "metadata": {
    "collapsed": false,
    "jupyter": {
     "outputs_hidden": false
    },
    "pycharm": {
     "name": "#%%\n"
    }
   },
   "outputs": [
    {
     "data": {
      "image/png": "[encoded data removed]",
      "text/plain": [
       "<Figure size 432x288 with 1 Axes>"
      ]
     },
     "metadata": {},
     "output_type": "display_data"
    }
   ],
   "source": [
    "plt.figure()\n",
    "plt.hist(filter_thresh(samples[\"infectiousness_history\"][:, :, 0]), bins=50)\n",
    "plt.show()"
   ]
  },
  {
   "cell_type": "code",
   "execution_count": 19,
   "metadata": {},
   "outputs": [
    {
     "data": {
      "text/plain": [
       "(189292,)"
      ]
     },
     "execution_count": 19,
     "metadata": {},
     "output_type": "execute_result"
    }
   ],
   "source": [
    "filter_thresh(samples[\"infectiousness_history\"][:, :, 0]).shape"
   ]
  },
  {
   "cell_type": "code",
   "execution_count": 23,
   "metadata": {},
   "outputs": [],
   "source": [
    "risk_mapping = probas_to_risk_mapping(filter_thresh(samples[\"infectiousness_history\"][:, :, 0]), 16)\n",
    "mappy = proba_to_risk_fn(risk_mapping)"
   ]
  },
  {
   "cell_type": "code",
   "execution_count": 28,
   "metadata": {},
   "outputs": [
    {
     "data": {
      "text/plain": [
       "[0.0,\n",
       " 0.023176854476332664,\n",
       " 0.035940684378147125,\n",
       " 0.04723893851041794,\n",
       " 0.0599491223692894,\n",
       " 0.07240188866853714,\n",
       " 0.08625195920467377,\n",
       " 0.0984979197382927,\n",
       " 0.11371604353189468,\n",
       " 0.1318412870168686,\n",
       " 0.14887279272079468,\n",
       " 0.16652454435825348,\n",
       " 0.18780438601970673,\n",
       " 0.2103663682937622,\n",
       " 0.2389608770608902,\n",
       " 0.2778235077857971,\n",
       " 1.0]"
      ]
     },
     "execution_count": 28,
     "metadata": {},
     "output_type": "execute_result"
    }
   ],
   "source": [
    "risk_mapping.tolist()"
   ]
  },
  {
   "cell_type": "code",
   "execution_count": 24,
   "metadata": {},
   "outputs": [],
   "source": [
    "risk_levels = mappy(filter_thresh(samples[\"infectiousness_history\"][:, :, 0]))"
   ]
  },
  {
   "cell_type": "code",
   "execution_count": 26,
   "metadata": {},
   "outputs": [
    {
     "data": {
      "text/plain": [
       "array([11848, 11816, 11836, 11828, 11868, 11804, 11844, 11828, 11832,\n",
       "       11808, 11860, 11832, 11800, 11836, 11824, 11828])"
      ]
     },
     "execution_count": 26,
     "metadata": {},
     "output_type": "execute_result"
    }
   ],
   "source": [
    "np.bincount(risk_levels)"
   ]
  },
  {
   "cell_type": "code",
   "execution_count": 16,
   "metadata": {},
   "outputs": [
    {
     "data": {
      "text/plain": [
       "0.004568646661937237"
      ]
     },
     "execution_count": 16,
     "metadata": {},
     "output_type": "execute_result"
    }
   ],
   "source": [
    "np.percentile(filter_thresh(samples[\"infectiousness_history\"][:, :, 0]), 1)"
   ]
  },
  {
   "cell_type": "code",
   "execution_count": null,
   "metadata": {},
   "outputs": [],
   "source": []
  },
  {
   "cell_type": "code",
   "execution_count": 8,
   "metadata": {
    "collapsed": false,
    "jupyter": {
     "outputs_hidden": false
    },
    "pycharm": {
     "name": "#%%\n"
    }
   },
   "outputs": [],
   "source": [
    "valid_encounter_messages = [msg for msg in samples[\"encounter_message\"] if msg.numel() > 0]"
   ]
  },
  {
   "cell_type": "code",
   "execution_count": 9,
   "metadata": {
    "collapsed": false,
    "jupyter": {
     "outputs_hidden": false
    },
    "pycharm": {
     "name": "#%%\n"
    }
   },
   "outputs": [
    {
     "data": {
      "image/png": "[encoded data removed]",
      "text/plain": [
       "<Figure size 432x288 with 1 Axes>"
      ]
     },
     "metadata": {},
     "output_type": "display_data"
    },
    {
     "data": {
      "image/png": "[encoded data removed]",
      "text/plain": [
       "<Figure size 432x288 with 1 Axes>"
      ]
     },
     "metadata": {},
     "output_type": "display_data"
    },
    {
     "data": {
      "image/png": "[encoded data removed]",
      "text/plain": [
       "<Figure size 432x288 with 1 Axes>"
      ]
     },
     "metadata": {},
     "output_type": "display_data"
    },
    {
     "data": {
      "image/png": "[encoded data removed]",
      "text/plain": [
       "<Figure size 432x288 with 1 Axes>"
      ]
     },
     "metadata": {},
     "output_type": "display_data"
    }
   ],
   "source": [
    "plt.figure()\n",
    "plt.title(\"Number of Elements in the Message\")\n",
    "plt.hist([msg.numel() for msg in valid_encounter_messages], bins=30, log=True)\n",
    "plt.show()\n",
    "\n",
    "plt.figure()\n",
    "plt.title(\"Mean Message\")\n",
    "plt.hist(([msg.mean().item() for msg in valid_encounter_messages]),\n",
    "         bins=30, log=True)\n",
    "plt.show()\n",
    "\n",
    "plt.figure()\n",
    "plt.title(\"Max Message\")\n",
    "plt.hist([msg.max().item() for msg in valid_encounter_messages], bins=30, log=True)\n",
    "plt.show()\n",
    "\n",
    "plt.figure()\n",
    "plt.title(\"Min Message\")\n",
    "plt.hist([msg.min().item() for msg in valid_encounter_messages], bins=30, log=True)\n",
    "plt.show()\n"
   ]
  },
  {
   "cell_type": "code",
   "execution_count": 10,
   "metadata": {
    "collapsed": false,
    "jupyter": {
     "outputs_hidden": false
    },
    "pycharm": {
     "name": "#%%\n"
    }
   },
   "outputs": [],
   "source": [
    "infectiousness_and_max_message = [(samples[\"infectiousness_history\"][idx, :, 0].max(),\n",
    "                                   samples[\"encounter_message\"][idx].max().item())\n",
    "                                  for idx in range(len(samples[\"encounter_message\"]))\n",
    "                                  if samples[\"encounter_message\"][idx].numel() > 0]\n",
    "\n",
    "infectiousness, max_message = zip(*infectiousness_and_max_message)\n",
    "infectiousness, max_message = np.asarray(infectiousness), np.asarray(max_message)"
   ]
  },
  {
   "cell_type": "code",
   "execution_count": 11,
   "metadata": {
    "collapsed": false,
    "jupyter": {
     "outputs_hidden": false
    },
    "pycharm": {
     "name": "#%%\n"
    }
   },
   "outputs": [
    {
     "data": {
      "image/png": "[encoded data removed]",
      "text/plain": [
       "<Figure size 432x288 with 1 Axes>"
      ]
     },
     "metadata": {},
     "output_type": "display_data"
    }
   ],
   "source": [
    "plt.figure()\n",
    "plt.scatter(infectiousness, max_message, alpha=0.1)\n",
    "plt.xlabel(\"Infectiousness\")\n",
    "plt.ylabel(\"Max Message\")\n",
    "plt.show()"
   ]
  },
  {
   "cell_type": "code",
   "execution_count": 12,
   "metadata": {
    "collapsed": false,
    "jupyter": {
     "outputs_hidden": false
    },
    "pycharm": {
     "name": "#%%\n"
    }
   },
   "outputs": [],
   "source": [
    "contagions_and_messages = [(samples[\"encounter_is_contagion\"][idx][:, 0],\n",
    "                            samples[\"encounter_message\"][idx][:, 0])\n",
    "                           for idx in range(len(samples[\"encounter_is_contagion\"]))\n",
    "                           if samples[\"encounter_is_contagion\"][idx].numel() > 0]\n",
    "\n",
    "contagions, messages = zip(*contagions_and_messages)\n",
    "contagions, messages = torch.cat(contagions), torch.cat(messages)"
   ]
  },
  {
   "cell_type": "code",
   "execution_count": 13,
   "metadata": {
    "collapsed": false,
    "jupyter": {
     "outputs_hidden": false
    },
    "pycharm": {
     "name": "#%%\n"
    }
   },
   "outputs": [
    {
     "data": {
      "image/png": "[encoded data removed]",
      "text/plain": [
       "<Figure size 432x288 with 1 Axes>"
      ]
     },
     "metadata": {},
     "output_type": "display_data"
    }
   ],
   "source": [
    "plt.figure()\n",
    "plt.hist(messages[contagions == 1], log=True, bins=20, alpha=0.5, label=\"Messages when Contagion\")\n",
    "plt.hist(messages[contagions == 0], log=True, bins=20, alpha=0.5, label=\"Messages when not Contagion\")\n",
    "plt.legend()\n",
    "plt.show()"
   ]
  },
  {
   "cell_type": "code",
   "execution_count": 28,
   "metadata": {
    "collapsed": false,
    "jupyter": {
     "outputs_hidden": false
    },
    "pycharm": {
     "name": "#%%\n"
    }
   },
   "outputs": [
    {
     "data": {
      "text/plain": [
       "2940.0"
      ]
     },
     "execution_count": 28,
     "metadata": {},
     "output_type": "execute_result"
    }
   ],
   "source": [
    "samples[\"health_history\"][:, 0, :-1].shape\n",
    "\n",
    "# import os\n",
    "# os.path.basename(PATH)"
   ]
  },
  {
   "cell_type": "code",
   "execution_count": null,
   "metadata": {
    "collapsed": false,
    "jupyter": {
     "outputs_hidden": false
    },
    "pycharm": {
     "name": "#%%\n"
    }
   },
   "outputs": [],
   "source": [
    "\n"
   ]
  }
 ],
 "metadata": {
  "kernelspec": {
   "display_name": "Python 3",
   "language": "python",
   "name": "python3"
  },
  "language_info": {
   "codemirror_mode": {
    "name": "ipython",
    "version": 3
   },
   "file_extension": ".py",
   "mimetype": "text/x-python",
   "name": "python",
   "nbconvert_exporter": "python",
   "pygments_lexer": "ipython3",
   "version": "3.7.6"
  }
 },
 "nbformat": 4,
 "nbformat_minor": 4
}
